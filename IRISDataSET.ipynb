{
  "nbformat": 4,
  "nbformat_minor": 0,
  "metadata": {
    "colab": {
      "name": "IRISDataSET.ipynb",
      "provenance": [],
      "collapsed_sections": []
    },
    "kernelspec": {
      "name": "python3",
      "display_name": "Python 3"
    }
  },
  "cells": [
    {
      "cell_type": "code",
      "metadata": {
        "id": "WuN1hYzXJxds"
      },
      "source": [
        "# first upload the file"
      ],
      "execution_count": null,
      "outputs": []
    },
    {
      "cell_type": "code",
      "metadata": {
        "colab": {
          "resources": {
            "http://localhost:8080/nbextensions/google.colab/files.js": {
              "data": "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",
              "ok": true,
              "headers": [
                [
                  "content-type",
                  "application/javascript"
                ]
              ],
              "status": 200,
              "status_text": ""
            }
          },
          "base_uri": "https://localhost:8080/",
          "height": 89
        },
        "id": "rg2SS_5nGxme",
        "outputId": "fce26ac1-df8a-45a1-de46-c85f182ffb57"
      },
      "source": [
        "from google.colab import files\n",
        "\n",
        "uploaded = files.upload()\n",
        "\n",
        "for fn in uploaded.keys():\n",
        "  print('User uploaded file \"{name}\" with length {length} bytes'.format(\n",
        "      name=fn, length=len(uploaded[fn])))"
      ],
      "execution_count": 10,
      "outputs": [
        {
          "output_type": "display_data",
          "data": {
            "text/html": [
              "\n",
              "     <input type=\"file\" id=\"files-fb9614ea-d524-4d86-90ef-5e8a6ea7a8ac\" name=\"files[]\" multiple disabled\n",
              "        style=\"border:none\" />\n",
              "     <output id=\"result-fb9614ea-d524-4d86-90ef-5e8a6ea7a8ac\">\n",
              "      Upload widget is only available when the cell has been executed in the\n",
              "      current browser session. Please rerun this cell to enable.\n",
              "      </output>\n",
              "      <script src=\"/nbextensions/google.colab/files.js\"></script> "
            ],
            "text/plain": [
              "<IPython.core.display.HTML object>"
            ]
          },
          "metadata": {
            "tags": []
          }
        },
        {
          "output_type": "stream",
          "text": [
            "Saving IRISDataSet.prn to IRISDataSet.prn\n",
            "User uploaded file \"IRISDataSet.prn\" with length 4700 bytes\n"
          ],
          "name": "stdout"
        }
      ]
    },
    {
      "cell_type": "markdown",
      "metadata": {
        "id": "fVKIzpk7KAhw"
      },
      "source": [
        "Showing Data\n"
      ]
    },
    {
      "cell_type": "code",
      "metadata": {
        "colab": {
          "base_uri": "https://localhost:8080/",
          "height": 204
        },
        "id": "Zk9S4l-lHRJc",
        "outputId": "d5082388-839a-4008-c152-bfd352496bb5"
      },
      "source": [
        "import pandas as pd\n",
        "import io\n",
        "data=pd.read_csv(io.StringIO(uploaded['IRISDataSet.prn'].decode('utf-8')))\n",
        "data.head()"
      ],
      "execution_count": 12,
      "outputs": [
        {
          "output_type": "execute_result",
          "data": {
            "text/html": [
              "<div>\n",
              "<style scoped>\n",
              "    .dataframe tbody tr th:only-of-type {\n",
              "        vertical-align: middle;\n",
              "    }\n",
              "\n",
              "    .dataframe tbody tr th {\n",
              "        vertical-align: top;\n",
              "    }\n",
              "\n",
              "    .dataframe thead th {\n",
              "        text-align: right;\n",
              "    }\n",
              "</style>\n",
              "<table border=\"1\" class=\"dataframe\">\n",
              "  <thead>\n",
              "    <tr style=\"text-align: right;\">\n",
              "      <th></th>\n",
              "      <th>5.1</th>\n",
              "      <th>3.5</th>\n",
              "      <th>1.4</th>\n",
              "      <th>0.2</th>\n",
              "      <th>Iris-setosa</th>\n",
              "    </tr>\n",
              "  </thead>\n",
              "  <tbody>\n",
              "    <tr>\n",
              "      <th>0</th>\n",
              "      <td>4.9</td>\n",
              "      <td>3.0</td>\n",
              "      <td>1.4</td>\n",
              "      <td>0.2</td>\n",
              "      <td>Iris-setosa</td>\n",
              "    </tr>\n",
              "    <tr>\n",
              "      <th>1</th>\n",
              "      <td>4.7</td>\n",
              "      <td>3.2</td>\n",
              "      <td>1.3</td>\n",
              "      <td>0.2</td>\n",
              "      <td>Iris-setosa</td>\n",
              "    </tr>\n",
              "    <tr>\n",
              "      <th>2</th>\n",
              "      <td>4.6</td>\n",
              "      <td>3.1</td>\n",
              "      <td>1.5</td>\n",
              "      <td>0.2</td>\n",
              "      <td>Iris-setosa</td>\n",
              "    </tr>\n",
              "    <tr>\n",
              "      <th>3</th>\n",
              "      <td>5.0</td>\n",
              "      <td>3.6</td>\n",
              "      <td>1.4</td>\n",
              "      <td>0.2</td>\n",
              "      <td>Iris-setosa</td>\n",
              "    </tr>\n",
              "    <tr>\n",
              "      <th>4</th>\n",
              "      <td>5.4</td>\n",
              "      <td>3.9</td>\n",
              "      <td>1.7</td>\n",
              "      <td>0.4</td>\n",
              "      <td>Iris-setosa</td>\n",
              "    </tr>\n",
              "  </tbody>\n",
              "</table>\n",
              "</div>"
            ],
            "text/plain": [
              "   5.1  3.5  1.4  0.2  Iris-setosa\n",
              "0  4.9  3.0  1.4  0.2  Iris-setosa\n",
              "1  4.7  3.2  1.3  0.2  Iris-setosa\n",
              "2  4.6  3.1  1.5  0.2  Iris-setosa\n",
              "3  5.0  3.6  1.4  0.2  Iris-setosa\n",
              "4  5.4  3.9  1.7  0.4  Iris-setosa"
            ]
          },
          "metadata": {
            "tags": []
          },
          "execution_count": 12
        }
      ]
    },
    {
      "cell_type": "markdown",
      "metadata": {
        "id": "v6Pfuh5SKJhQ"
      },
      "source": [
        "Adding more data"
      ]
    },
    {
      "cell_type": "code",
      "metadata": {
        "id": "J2OoJIzTJu-3"
      },
      "source": [
        "import keras\n",
        "from keras.models import Sequential\n",
        "from keras.layers import Dense\n",
        "from keras.optimizers import Adam\n",
        "import matplotlib.pyplot as plt\n",
        "import graphviz\n",
        "from IPython.display import SVG\n",
        "from keras.utils.vis_utils import model_to_dot\n",
        "from keras.utils import plot_model\n",
        "import seaborn as sns\n",
        "import pandas as pd\n",
        "import numpy as np\n",
        "\n",
        "\n"
      ],
      "execution_count": 15,
      "outputs": []
    },
    {
      "cell_type": "code",
      "metadata": {
        "colab": {
          "base_uri": "https://localhost:8080/",
          "height": 419
        },
        "id": "QlIKMnlKLE6a",
        "outputId": "288d2114-80df-4fe4-d5b9-6103ddf22706"
      },
      "source": [
        "dataset=pd.read_csv('IRISDataSet.prn')\n",
        "dataset"
      ],
      "execution_count": 21,
      "outputs": [
        {
          "output_type": "execute_result",
          "data": {
            "text/html": [
              "<div>\n",
              "<style scoped>\n",
              "    .dataframe tbody tr th:only-of-type {\n",
              "        vertical-align: middle;\n",
              "    }\n",
              "\n",
              "    .dataframe tbody tr th {\n",
              "        vertical-align: top;\n",
              "    }\n",
              "\n",
              "    .dataframe thead th {\n",
              "        text-align: right;\n",
              "    }\n",
              "</style>\n",
              "<table border=\"1\" class=\"dataframe\">\n",
              "  <thead>\n",
              "    <tr style=\"text-align: right;\">\n",
              "      <th></th>\n",
              "      <th>5.1</th>\n",
              "      <th>3.5</th>\n",
              "      <th>1.4</th>\n",
              "      <th>0.2</th>\n",
              "      <th>Iris-setosa</th>\n",
              "    </tr>\n",
              "  </thead>\n",
              "  <tbody>\n",
              "    <tr>\n",
              "      <th>0</th>\n",
              "      <td>4.9</td>\n",
              "      <td>3.0</td>\n",
              "      <td>1.4</td>\n",
              "      <td>0.2</td>\n",
              "      <td>Iris-setosa</td>\n",
              "    </tr>\n",
              "    <tr>\n",
              "      <th>1</th>\n",
              "      <td>4.7</td>\n",
              "      <td>3.2</td>\n",
              "      <td>1.3</td>\n",
              "      <td>0.2</td>\n",
              "      <td>Iris-setosa</td>\n",
              "    </tr>\n",
              "    <tr>\n",
              "      <th>2</th>\n",
              "      <td>4.6</td>\n",
              "      <td>3.1</td>\n",
              "      <td>1.5</td>\n",
              "      <td>0.2</td>\n",
              "      <td>Iris-setosa</td>\n",
              "    </tr>\n",
              "    <tr>\n",
              "      <th>3</th>\n",
              "      <td>5.0</td>\n",
              "      <td>3.6</td>\n",
              "      <td>1.4</td>\n",
              "      <td>0.2</td>\n",
              "      <td>Iris-setosa</td>\n",
              "    </tr>\n",
              "    <tr>\n",
              "      <th>4</th>\n",
              "      <td>5.4</td>\n",
              "      <td>3.9</td>\n",
              "      <td>1.7</td>\n",
              "      <td>0.4</td>\n",
              "      <td>Iris-setosa</td>\n",
              "    </tr>\n",
              "    <tr>\n",
              "      <th>...</th>\n",
              "      <td>...</td>\n",
              "      <td>...</td>\n",
              "      <td>...</td>\n",
              "      <td>...</td>\n",
              "      <td>...</td>\n",
              "    </tr>\n",
              "    <tr>\n",
              "      <th>144</th>\n",
              "      <td>6.7</td>\n",
              "      <td>3.0</td>\n",
              "      <td>5.2</td>\n",
              "      <td>2.3</td>\n",
              "      <td>Iris-virginica</td>\n",
              "    </tr>\n",
              "    <tr>\n",
              "      <th>145</th>\n",
              "      <td>6.3</td>\n",
              "      <td>2.5</td>\n",
              "      <td>5.0</td>\n",
              "      <td>1.9</td>\n",
              "      <td>Iris-virginica</td>\n",
              "    </tr>\n",
              "    <tr>\n",
              "      <th>146</th>\n",
              "      <td>6.5</td>\n",
              "      <td>3.0</td>\n",
              "      <td>5.2</td>\n",
              "      <td>2.0</td>\n",
              "      <td>Iris-virginica</td>\n",
              "    </tr>\n",
              "    <tr>\n",
              "      <th>147</th>\n",
              "      <td>6.2</td>\n",
              "      <td>3.4</td>\n",
              "      <td>5.4</td>\n",
              "      <td>2.3</td>\n",
              "      <td>Iris-virginica</td>\n",
              "    </tr>\n",
              "    <tr>\n",
              "      <th>148</th>\n",
              "      <td>5.9</td>\n",
              "      <td>3.0</td>\n",
              "      <td>5.1</td>\n",
              "      <td>1.8</td>\n",
              "      <td>Iris-virginica</td>\n",
              "    </tr>\n",
              "  </tbody>\n",
              "</table>\n",
              "<p>149 rows × 5 columns</p>\n",
              "</div>"
            ],
            "text/plain": [
              "     5.1  3.5  1.4  0.2     Iris-setosa\n",
              "0    4.9  3.0  1.4  0.2     Iris-setosa\n",
              "1    4.7  3.2  1.3  0.2     Iris-setosa\n",
              "2    4.6  3.1  1.5  0.2     Iris-setosa\n",
              "3    5.0  3.6  1.4  0.2     Iris-setosa\n",
              "4    5.4  3.9  1.7  0.4     Iris-setosa\n",
              "..   ...  ...  ...  ...             ...\n",
              "144  6.7  3.0  5.2  2.3  Iris-virginica\n",
              "145  6.3  2.5  5.0  1.9  Iris-virginica\n",
              "146  6.5  3.0  5.2  2.0  Iris-virginica\n",
              "147  6.2  3.4  5.4  2.3  Iris-virginica\n",
              "148  5.9  3.0  5.1  1.8  Iris-virginica\n",
              "\n",
              "[149 rows x 5 columns]"
            ]
          },
          "metadata": {
            "tags": []
          },
          "execution_count": 21
        }
      ]
    },
    {
      "cell_type": "code",
      "metadata": {
        "id": "8I7e5lqgLm4M"
      },
      "source": [
        "X=dataset.iloc[:,0:4].values\n",
        "y=dataset.iloc[:,4].values"
      ],
      "execution_count": 24,
      "outputs": []
    },
    {
      "cell_type": "markdown",
      "metadata": {
        "id": "a-A9H5ODRjIr"
      },
      "source": [
        "Encoding categorical data"
      ]
    },
    {
      "cell_type": "code",
      "metadata": {
        "id": "l3urcaUsReyd"
      },
      "source": [
        "from sklearn.preprocessing import LabelEncoder\n",
        "encoder=LabelEncoder()\n",
        "y1=encoder.fit_transform(y)\n",
        "Y=pd.get_dummies(y1).values\n"
      ],
      "execution_count": 28,
      "outputs": []
    },
    {
      "cell_type": "markdown",
      "metadata": {
        "id": "EBekp2w_SfvD"
      },
      "source": [
        "Splitting the dataset into the Training and Test set"
      ]
    },
    {
      "cell_type": "code",
      "metadata": {
        "id": "KzHRqOlsSd7y"
      },
      "source": [
        "from sklearn.model_selection import train_test_split\n",
        "X_train,X_test,y_train,y_test=train_test_split(X,Y,test_size=0.2,random_state=0)"
      ],
      "execution_count": 29,
      "outputs": []
    },
    {
      "cell_type": "markdown",
      "metadata": {
        "id": "o7vXY8PtTYML"
      },
      "source": [
        "Add the model and first hidden layer"
      ]
    },
    {
      "cell_type": "code",
      "metadata": {
        "id": "9Quvmn8mTDXc"
      },
      "source": [
        "model=Sequential()\n",
        "\n",
        "model.add(Dense(4,input_shape=(4,),activation='relu')) # input layer\n",
        "\n",
        "model.add(Dense(3,activation='softmax')) # output layer\n",
        "\n"
      ],
      "execution_count": 30,
      "outputs": []
    },
    {
      "cell_type": "code",
      "metadata": {
        "id": "YuJ29HbZUsMe"
      },
      "source": [
        "model.compile(optimizer=\"Adam\",loss='categorical_crossentropy',metrics=['accuracy']) # compiler"
      ],
      "execution_count": 31,
      "outputs": []
    },
    {
      "cell_type": "markdown",
      "metadata": {
        "id": "ejnFi3AfU4Nv"
      },
      "source": [
        "Training state"
      ]
    },
    {
      "cell_type": "code",
      "metadata": {
        "colab": {
          "base_uri": "https://localhost:8080/"
        },
        "id": "SgzT_00AU3xx",
        "outputId": "d4a883a8-7342-433b-e306-6b98303bf031"
      },
      "source": [
        "model.fit(X_train,y_train,batch_size=10,epochs=200)"
      ],
      "execution_count": 35,
      "outputs": [
        {
          "output_type": "stream",
          "text": [
            "Epoch 1/200\n",
            "12/12 [==============================] - 0s 1ms/step - loss: 0.5087 - accuracy: 0.6639\n",
            "Epoch 2/200\n",
            "12/12 [==============================] - 0s 1ms/step - loss: 0.5086 - accuracy: 0.6639\n",
            "Epoch 3/200\n",
            "12/12 [==============================] - 0s 1ms/step - loss: 0.5083 - accuracy: 0.6639\n",
            "Epoch 4/200\n",
            "12/12 [==============================] - 0s 1ms/step - loss: 0.5081 - accuracy: 0.6639\n",
            "Epoch 5/200\n",
            "12/12 [==============================] - 0s 1ms/step - loss: 0.5078 - accuracy: 0.6639\n",
            "Epoch 6/200\n",
            "12/12 [==============================] - 0s 1ms/step - loss: 0.5076 - accuracy: 0.6639\n",
            "Epoch 7/200\n",
            "12/12 [==============================] - 0s 1ms/step - loss: 0.5074 - accuracy: 0.6639\n",
            "Epoch 8/200\n",
            "12/12 [==============================] - 0s 1ms/step - loss: 0.5072 - accuracy: 0.6639\n",
            "Epoch 9/200\n",
            "12/12 [==============================] - 0s 1ms/step - loss: 0.5071 - accuracy: 0.6639\n",
            "Epoch 10/200\n",
            "12/12 [==============================] - 0s 1ms/step - loss: 0.5068 - accuracy: 0.6639\n",
            "Epoch 11/200\n",
            "12/12 [==============================] - 0s 1ms/step - loss: 0.5066 - accuracy: 0.6639\n",
            "Epoch 12/200\n",
            "12/12 [==============================] - 0s 1ms/step - loss: 0.5064 - accuracy: 0.6639\n",
            "Epoch 13/200\n",
            "12/12 [==============================] - 0s 1ms/step - loss: 0.5062 - accuracy: 0.6639\n",
            "Epoch 14/200\n",
            "12/12 [==============================] - 0s 1ms/step - loss: 0.5060 - accuracy: 0.6639\n",
            "Epoch 15/200\n",
            "12/12 [==============================] - 0s 988us/step - loss: 0.5058 - accuracy: 0.6639\n",
            "Epoch 16/200\n",
            "12/12 [==============================] - 0s 1ms/step - loss: 0.5056 - accuracy: 0.6639\n",
            "Epoch 17/200\n",
            "12/12 [==============================] - 0s 1ms/step - loss: 0.5055 - accuracy: 0.6639\n",
            "Epoch 18/200\n",
            "12/12 [==============================] - 0s 1ms/step - loss: 0.5053 - accuracy: 0.6639\n",
            "Epoch 19/200\n",
            "12/12 [==============================] - 0s 1ms/step - loss: 0.5052 - accuracy: 0.6639\n",
            "Epoch 20/200\n",
            "12/12 [==============================] - 0s 1ms/step - loss: 0.5049 - accuracy: 0.6639\n",
            "Epoch 21/200\n",
            "12/12 [==============================] - 0s 1ms/step - loss: 0.5047 - accuracy: 0.6639\n",
            "Epoch 22/200\n",
            "12/12 [==============================] - 0s 1ms/step - loss: 0.5046 - accuracy: 0.6639\n",
            "Epoch 23/200\n",
            "12/12 [==============================] - 0s 1ms/step - loss: 0.5044 - accuracy: 0.6639\n",
            "Epoch 24/200\n",
            "12/12 [==============================] - 0s 1ms/step - loss: 0.5042 - accuracy: 0.6639\n",
            "Epoch 25/200\n",
            "12/12 [==============================] - 0s 1ms/step - loss: 0.5041 - accuracy: 0.6639\n",
            "Epoch 26/200\n",
            "12/12 [==============================] - 0s 1ms/step - loss: 0.5039 - accuracy: 0.6639\n",
            "Epoch 27/200\n",
            "12/12 [==============================] - 0s 1ms/step - loss: 0.5036 - accuracy: 0.6639\n",
            "Epoch 28/200\n",
            "12/12 [==============================] - 0s 1ms/step - loss: 0.5035 - accuracy: 0.6639\n",
            "Epoch 29/200\n",
            "12/12 [==============================] - 0s 1ms/step - loss: 0.5033 - accuracy: 0.6639\n",
            "Epoch 30/200\n",
            "12/12 [==============================] - 0s 1ms/step - loss: 0.5032 - accuracy: 0.6639\n",
            "Epoch 31/200\n",
            "12/12 [==============================] - 0s 1ms/step - loss: 0.5030 - accuracy: 0.6639\n",
            "Epoch 32/200\n",
            "12/12 [==============================] - 0s 1ms/step - loss: 0.5028 - accuracy: 0.6639\n",
            "Epoch 33/200\n",
            "12/12 [==============================] - 0s 2ms/step - loss: 0.5026 - accuracy: 0.6639\n",
            "Epoch 34/200\n",
            "12/12 [==============================] - 0s 1ms/step - loss: 0.5025 - accuracy: 0.6639\n",
            "Epoch 35/200\n",
            "12/12 [==============================] - 0s 1ms/step - loss: 0.5023 - accuracy: 0.6639\n",
            "Epoch 36/200\n",
            "12/12 [==============================] - 0s 1ms/step - loss: 0.5021 - accuracy: 0.6639\n",
            "Epoch 37/200\n",
            "12/12 [==============================] - 0s 1ms/step - loss: 0.5020 - accuracy: 0.6639\n",
            "Epoch 38/200\n",
            "12/12 [==============================] - 0s 1ms/step - loss: 0.5018 - accuracy: 0.6639\n",
            "Epoch 39/200\n",
            "12/12 [==============================] - 0s 1ms/step - loss: 0.5017 - accuracy: 0.6639\n",
            "Epoch 40/200\n",
            "12/12 [==============================] - 0s 1ms/step - loss: 0.5015 - accuracy: 0.6639\n",
            "Epoch 41/200\n",
            "12/12 [==============================] - 0s 1ms/step - loss: 0.5013 - accuracy: 0.6639\n",
            "Epoch 42/200\n",
            "12/12 [==============================] - 0s 1ms/step - loss: 0.5012 - accuracy: 0.6639\n",
            "Epoch 43/200\n",
            "12/12 [==============================] - 0s 1ms/step - loss: 0.5010 - accuracy: 0.6639\n",
            "Epoch 44/200\n",
            "12/12 [==============================] - 0s 1ms/step - loss: 0.5008 - accuracy: 0.6639\n",
            "Epoch 45/200\n",
            "12/12 [==============================] - 0s 1ms/step - loss: 0.5008 - accuracy: 0.6639\n",
            "Epoch 46/200\n",
            "12/12 [==============================] - 0s 1ms/step - loss: 0.5006 - accuracy: 0.6639\n",
            "Epoch 47/200\n",
            "12/12 [==============================] - 0s 1ms/step - loss: 0.5004 - accuracy: 0.6639\n",
            "Epoch 48/200\n",
            "12/12 [==============================] - 0s 1ms/step - loss: 0.5002 - accuracy: 0.6639\n",
            "Epoch 49/200\n",
            "12/12 [==============================] - 0s 1ms/step - loss: 0.5001 - accuracy: 0.6639\n",
            "Epoch 50/200\n",
            "12/12 [==============================] - 0s 1ms/step - loss: 0.4999 - accuracy: 0.6639\n",
            "Epoch 51/200\n",
            "12/12 [==============================] - 0s 1ms/step - loss: 0.4998 - accuracy: 0.6639\n",
            "Epoch 52/200\n",
            "12/12 [==============================] - 0s 1ms/step - loss: 0.4997 - accuracy: 0.6639\n",
            "Epoch 53/200\n",
            "12/12 [==============================] - 0s 1ms/step - loss: 0.4995 - accuracy: 0.6639\n",
            "Epoch 54/200\n",
            "12/12 [==============================] - 0s 1ms/step - loss: 0.4994 - accuracy: 0.6639\n",
            "Epoch 55/200\n",
            "12/12 [==============================] - 0s 1ms/step - loss: 0.4993 - accuracy: 0.6639\n",
            "Epoch 56/200\n",
            "12/12 [==============================] - 0s 1ms/step - loss: 0.4991 - accuracy: 0.6639\n",
            "Epoch 57/200\n",
            "12/12 [==============================] - 0s 1ms/step - loss: 0.4989 - accuracy: 0.6639\n",
            "Epoch 58/200\n",
            "12/12 [==============================] - 0s 1ms/step - loss: 0.4988 - accuracy: 0.6639\n",
            "Epoch 59/200\n",
            "12/12 [==============================] - 0s 1ms/step - loss: 0.4986 - accuracy: 0.6639\n",
            "Epoch 60/200\n",
            "12/12 [==============================] - 0s 1ms/step - loss: 0.4986 - accuracy: 0.6639\n",
            "Epoch 61/200\n",
            "12/12 [==============================] - 0s 1ms/step - loss: 0.4984 - accuracy: 0.6639\n",
            "Epoch 62/200\n",
            "12/12 [==============================] - 0s 1ms/step - loss: 0.4983 - accuracy: 0.6639\n",
            "Epoch 63/200\n",
            "12/12 [==============================] - 0s 1ms/step - loss: 0.4981 - accuracy: 0.6639\n",
            "Epoch 64/200\n",
            "12/12 [==============================] - 0s 1ms/step - loss: 0.4980 - accuracy: 0.6639\n",
            "Epoch 65/200\n",
            "12/12 [==============================] - 0s 1ms/step - loss: 0.4979 - accuracy: 0.6639\n",
            "Epoch 66/200\n",
            "12/12 [==============================] - 0s 1ms/step - loss: 0.4977 - accuracy: 0.6639\n",
            "Epoch 67/200\n",
            "12/12 [==============================] - 0s 1ms/step - loss: 0.4976 - accuracy: 0.6639\n",
            "Epoch 68/200\n",
            "12/12 [==============================] - 0s 1ms/step - loss: 0.4975 - accuracy: 0.6639\n",
            "Epoch 69/200\n",
            "12/12 [==============================] - 0s 1ms/step - loss: 0.4973 - accuracy: 0.6639\n",
            "Epoch 70/200\n",
            "12/12 [==============================] - 0s 1ms/step - loss: 0.4972 - accuracy: 0.6639\n",
            "Epoch 71/200\n",
            "12/12 [==============================] - 0s 1ms/step - loss: 0.4971 - accuracy: 0.6639\n",
            "Epoch 72/200\n",
            "12/12 [==============================] - 0s 1ms/step - loss: 0.4969 - accuracy: 0.6639\n",
            "Epoch 73/200\n",
            "12/12 [==============================] - 0s 1ms/step - loss: 0.4968 - accuracy: 0.6639\n",
            "Epoch 74/200\n",
            "12/12 [==============================] - 0s 1ms/step - loss: 0.4967 - accuracy: 0.6639\n",
            "Epoch 75/200\n",
            "12/12 [==============================] - 0s 1ms/step - loss: 0.4965 - accuracy: 0.6639\n",
            "Epoch 76/200\n",
            "12/12 [==============================] - 0s 1ms/step - loss: 0.4964 - accuracy: 0.6639\n",
            "Epoch 77/200\n",
            "12/12 [==============================] - 0s 1ms/step - loss: 0.4963 - accuracy: 0.6639\n",
            "Epoch 78/200\n",
            "12/12 [==============================] - 0s 1ms/step - loss: 0.4962 - accuracy: 0.6639\n",
            "Epoch 79/200\n",
            "12/12 [==============================] - 0s 1ms/step - loss: 0.4961 - accuracy: 0.6639\n",
            "Epoch 80/200\n",
            "12/12 [==============================] - 0s 1ms/step - loss: 0.4960 - accuracy: 0.6639\n",
            "Epoch 81/200\n",
            "12/12 [==============================] - 0s 1ms/step - loss: 0.4959 - accuracy: 0.6639\n",
            "Epoch 82/200\n",
            "12/12 [==============================] - 0s 1ms/step - loss: 0.4957 - accuracy: 0.6639\n",
            "Epoch 83/200\n",
            "12/12 [==============================] - 0s 1ms/step - loss: 0.4956 - accuracy: 0.6639\n",
            "Epoch 84/200\n",
            "12/12 [==============================] - 0s 1ms/step - loss: 0.4955 - accuracy: 0.6639\n",
            "Epoch 85/200\n",
            "12/12 [==============================] - 0s 1ms/step - loss: 0.4954 - accuracy: 0.6639\n",
            "Epoch 86/200\n",
            "12/12 [==============================] - 0s 1ms/step - loss: 0.4952 - accuracy: 0.6639\n",
            "Epoch 87/200\n",
            "12/12 [==============================] - 0s 1ms/step - loss: 0.4952 - accuracy: 0.6639\n",
            "Epoch 88/200\n",
            "12/12 [==============================] - 0s 1ms/step - loss: 0.4950 - accuracy: 0.6639\n",
            "Epoch 89/200\n",
            "12/12 [==============================] - 0s 1ms/step - loss: 0.4949 - accuracy: 0.6639\n",
            "Epoch 90/200\n",
            "12/12 [==============================] - 0s 1ms/step - loss: 0.4948 - accuracy: 0.6639\n",
            "Epoch 91/200\n",
            "12/12 [==============================] - 0s 1ms/step - loss: 0.4947 - accuracy: 0.6639\n",
            "Epoch 92/200\n",
            "12/12 [==============================] - 0s 1ms/step - loss: 0.4946 - accuracy: 0.6639\n",
            "Epoch 93/200\n",
            "12/12 [==============================] - 0s 1ms/step - loss: 0.4944 - accuracy: 0.6639\n",
            "Epoch 94/200\n",
            "12/12 [==============================] - 0s 1ms/step - loss: 0.4943 - accuracy: 0.6639\n",
            "Epoch 95/200\n",
            "12/12 [==============================] - 0s 1ms/step - loss: 0.4942 - accuracy: 0.6639\n",
            "Epoch 96/200\n",
            "12/12 [==============================] - 0s 1ms/step - loss: 0.4941 - accuracy: 0.6639\n",
            "Epoch 97/200\n",
            "12/12 [==============================] - 0s 1ms/step - loss: 0.4940 - accuracy: 0.6639\n",
            "Epoch 98/200\n",
            "12/12 [==============================] - 0s 1ms/step - loss: 0.4939 - accuracy: 0.6639\n",
            "Epoch 99/200\n",
            "12/12 [==============================] - 0s 1ms/step - loss: 0.4938 - accuracy: 0.6639\n",
            "Epoch 100/200\n",
            "12/12 [==============================] - 0s 1ms/step - loss: 0.4937 - accuracy: 0.6639\n",
            "Epoch 101/200\n",
            "12/12 [==============================] - 0s 1ms/step - loss: 0.4936 - accuracy: 0.6639\n",
            "Epoch 102/200\n",
            "12/12 [==============================] - 0s 1ms/step - loss: 0.4935 - accuracy: 0.6639\n",
            "Epoch 103/200\n",
            "12/12 [==============================] - 0s 1ms/step - loss: 0.4934 - accuracy: 0.6639\n",
            "Epoch 104/200\n",
            "12/12 [==============================] - 0s 1ms/step - loss: 0.4933 - accuracy: 0.6639\n",
            "Epoch 105/200\n",
            "12/12 [==============================] - 0s 1ms/step - loss: 0.4932 - accuracy: 0.6639\n",
            "Epoch 106/200\n",
            "12/12 [==============================] - 0s 1ms/step - loss: 0.4931 - accuracy: 0.6639\n",
            "Epoch 107/200\n",
            "12/12 [==============================] - 0s 1ms/step - loss: 0.4930 - accuracy: 0.6639\n",
            "Epoch 108/200\n",
            "12/12 [==============================] - 0s 1ms/step - loss: 0.4929 - accuracy: 0.6639\n",
            "Epoch 109/200\n",
            "12/12 [==============================] - 0s 1ms/step - loss: 0.4927 - accuracy: 0.6639\n",
            "Epoch 110/200\n",
            "12/12 [==============================] - 0s 2ms/step - loss: 0.4926 - accuracy: 0.6639\n",
            "Epoch 111/200\n",
            "12/12 [==============================] - 0s 1ms/step - loss: 0.4926 - accuracy: 0.6639\n",
            "Epoch 112/200\n",
            "12/12 [==============================] - 0s 1ms/step - loss: 0.4925 - accuracy: 0.6639\n",
            "Epoch 113/200\n",
            "12/12 [==============================] - 0s 1ms/step - loss: 0.4924 - accuracy: 0.6639\n",
            "Epoch 114/200\n",
            "12/12 [==============================] - 0s 1ms/step - loss: 0.4924 - accuracy: 0.6639\n",
            "Epoch 115/200\n",
            "12/12 [==============================] - 0s 1ms/step - loss: 0.4922 - accuracy: 0.6639\n",
            "Epoch 116/200\n",
            "12/12 [==============================] - 0s 1ms/step - loss: 0.4920 - accuracy: 0.6639\n",
            "Epoch 117/200\n",
            "12/12 [==============================] - 0s 1ms/step - loss: 0.4919 - accuracy: 0.6639\n",
            "Epoch 118/200\n",
            "12/12 [==============================] - 0s 1ms/step - loss: 0.4918 - accuracy: 0.6639\n",
            "Epoch 119/200\n",
            "12/12 [==============================] - 0s 1ms/step - loss: 0.4917 - accuracy: 0.6639\n",
            "Epoch 120/200\n",
            "12/12 [==============================] - 0s 1ms/step - loss: 0.4916 - accuracy: 0.6639\n",
            "Epoch 121/200\n",
            "12/12 [==============================] - 0s 1ms/step - loss: 0.4916 - accuracy: 0.6639\n",
            "Epoch 122/200\n",
            "12/12 [==============================] - 0s 1ms/step - loss: 0.4915 - accuracy: 0.6639\n",
            "Epoch 123/200\n",
            "12/12 [==============================] - 0s 1ms/step - loss: 0.4914 - accuracy: 0.6639\n",
            "Epoch 124/200\n",
            "12/12 [==============================] - 0s 1ms/step - loss: 0.4912 - accuracy: 0.6723\n",
            "Epoch 125/200\n",
            "12/12 [==============================] - 0s 1ms/step - loss: 0.4912 - accuracy: 0.6723\n",
            "Epoch 126/200\n",
            "12/12 [==============================] - 0s 2ms/step - loss: 0.4911 - accuracy: 0.6723\n",
            "Epoch 127/200\n",
            "12/12 [==============================] - 0s 1ms/step - loss: 0.4910 - accuracy: 0.6723\n",
            "Epoch 128/200\n",
            "12/12 [==============================] - 0s 1ms/step - loss: 0.4909 - accuracy: 0.6723\n",
            "Epoch 129/200\n",
            "12/12 [==============================] - 0s 1ms/step - loss: 0.4908 - accuracy: 0.6723\n",
            "Epoch 130/200\n",
            "12/12 [==============================] - 0s 1ms/step - loss: 0.4907 - accuracy: 0.6723\n",
            "Epoch 131/200\n",
            "12/12 [==============================] - 0s 1ms/step - loss: 0.4906 - accuracy: 0.6723\n",
            "Epoch 132/200\n",
            "12/12 [==============================] - 0s 1ms/step - loss: 0.4905 - accuracy: 0.6723\n",
            "Epoch 133/200\n",
            "12/12 [==============================] - 0s 1ms/step - loss: 0.4904 - accuracy: 0.6723\n",
            "Epoch 134/200\n",
            "12/12 [==============================] - 0s 1ms/step - loss: 0.4903 - accuracy: 0.6723\n",
            "Epoch 135/200\n",
            "12/12 [==============================] - 0s 1ms/step - loss: 0.4902 - accuracy: 0.6723\n",
            "Epoch 136/200\n",
            "12/12 [==============================] - 0s 1ms/step - loss: 0.4901 - accuracy: 0.6807\n",
            "Epoch 137/200\n",
            "12/12 [==============================] - 0s 1ms/step - loss: 0.4901 - accuracy: 0.6807\n",
            "Epoch 138/200\n",
            "12/12 [==============================] - 0s 1ms/step - loss: 0.4899 - accuracy: 0.6807\n",
            "Epoch 139/200\n",
            "12/12 [==============================] - 0s 1ms/step - loss: 0.4898 - accuracy: 0.6807\n",
            "Epoch 140/200\n",
            "12/12 [==============================] - 0s 2ms/step - loss: 0.4898 - accuracy: 0.6807\n",
            "Epoch 141/200\n",
            "12/12 [==============================] - 0s 1ms/step - loss: 0.4896 - accuracy: 0.6807\n",
            "Epoch 142/200\n",
            "12/12 [==============================] - 0s 1ms/step - loss: 0.4895 - accuracy: 0.6807\n",
            "Epoch 143/200\n",
            "12/12 [==============================] - 0s 1ms/step - loss: 0.4894 - accuracy: 0.6807\n",
            "Epoch 144/200\n",
            "12/12 [==============================] - 0s 1ms/step - loss: 0.4893 - accuracy: 0.6891\n",
            "Epoch 145/200\n",
            "12/12 [==============================] - 0s 1ms/step - loss: 0.4892 - accuracy: 0.6891\n",
            "Epoch 146/200\n",
            "12/12 [==============================] - 0s 1ms/step - loss: 0.4891 - accuracy: 0.6891\n",
            "Epoch 147/200\n",
            "12/12 [==============================] - 0s 1ms/step - loss: 0.4889 - accuracy: 0.6891\n",
            "Epoch 148/200\n",
            "12/12 [==============================] - 0s 1ms/step - loss: 0.4888 - accuracy: 0.6891\n",
            "Epoch 149/200\n",
            "12/12 [==============================] - 0s 1ms/step - loss: 0.4888 - accuracy: 0.6891\n",
            "Epoch 150/200\n",
            "12/12 [==============================] - 0s 2ms/step - loss: 0.4886 - accuracy: 0.6891\n",
            "Epoch 151/200\n",
            "12/12 [==============================] - 0s 1ms/step - loss: 0.4885 - accuracy: 0.6891\n",
            "Epoch 152/200\n",
            "12/12 [==============================] - 0s 1ms/step - loss: 0.4882 - accuracy: 0.6891\n",
            "Epoch 153/200\n",
            "12/12 [==============================] - 0s 1ms/step - loss: 0.4881 - accuracy: 0.6891\n",
            "Epoch 154/200\n",
            "12/12 [==============================] - 0s 1ms/step - loss: 0.4879 - accuracy: 0.6891\n",
            "Epoch 155/200\n",
            "12/12 [==============================] - 0s 1ms/step - loss: 0.4877 - accuracy: 0.6975\n",
            "Epoch 156/200\n",
            "12/12 [==============================] - 0s 1ms/step - loss: 0.4874 - accuracy: 0.7059\n",
            "Epoch 157/200\n",
            "12/12 [==============================] - 0s 1ms/step - loss: 0.4872 - accuracy: 0.7143\n",
            "Epoch 158/200\n",
            "12/12 [==============================] - 0s 1ms/step - loss: 0.4869 - accuracy: 0.7227\n",
            "Epoch 159/200\n",
            "12/12 [==============================] - 0s 1ms/step - loss: 0.4866 - accuracy: 0.7227\n",
            "Epoch 160/200\n",
            "12/12 [==============================] - 0s 1ms/step - loss: 0.4864 - accuracy: 0.7395\n",
            "Epoch 161/200\n",
            "12/12 [==============================] - 0s 1ms/step - loss: 0.4859 - accuracy: 0.7479\n",
            "Epoch 162/200\n",
            "12/12 [==============================] - 0s 1ms/step - loss: 0.4853 - accuracy: 0.7479\n",
            "Epoch 163/200\n",
            "12/12 [==============================] - 0s 1ms/step - loss: 0.4843 - accuracy: 0.7731\n",
            "Epoch 164/200\n",
            "12/12 [==============================] - 0s 1ms/step - loss: 0.4830 - accuracy: 0.8067\n",
            "Epoch 165/200\n",
            "12/12 [==============================] - 0s 1ms/step - loss: 0.4815 - accuracy: 0.8403\n",
            "Epoch 166/200\n",
            "12/12 [==============================] - 0s 1ms/step - loss: 0.4798 - accuracy: 0.8403\n",
            "Epoch 167/200\n",
            "12/12 [==============================] - 0s 1ms/step - loss: 0.4772 - accuracy: 0.8739\n",
            "Epoch 168/200\n",
            "12/12 [==============================] - 0s 1ms/step - loss: 0.4745 - accuracy: 0.8908\n",
            "Epoch 169/200\n",
            "12/12 [==============================] - 0s 2ms/step - loss: 0.4716 - accuracy: 0.8992\n",
            "Epoch 170/200\n",
            "12/12 [==============================] - 0s 1ms/step - loss: 0.4675 - accuracy: 0.9244\n",
            "Epoch 171/200\n",
            "12/12 [==============================] - 0s 1ms/step - loss: 0.4633 - accuracy: 0.9244\n",
            "Epoch 172/200\n",
            "12/12 [==============================] - 0s 1ms/step - loss: 0.4586 - accuracy: 0.9244\n",
            "Epoch 173/200\n",
            "12/12 [==============================] - 0s 2ms/step - loss: 0.4534 - accuracy: 0.9496\n",
            "Epoch 174/200\n",
            "12/12 [==============================] - 0s 1ms/step - loss: 0.4479 - accuracy: 0.9496\n",
            "Epoch 175/200\n",
            "12/12 [==============================] - 0s 1ms/step - loss: 0.4414 - accuracy: 0.9664\n",
            "Epoch 176/200\n",
            "12/12 [==============================] - 0s 1ms/step - loss: 0.4357 - accuracy: 0.9496\n",
            "Epoch 177/200\n",
            "12/12 [==============================] - 0s 1ms/step - loss: 0.4286 - accuracy: 0.9664\n",
            "Epoch 178/200\n",
            "12/12 [==============================] - 0s 1ms/step - loss: 0.4230 - accuracy: 0.9832\n",
            "Epoch 179/200\n",
            "12/12 [==============================] - 0s 1ms/step - loss: 0.4182 - accuracy: 0.9748\n",
            "Epoch 180/200\n",
            "12/12 [==============================] - 0s 1ms/step - loss: 0.4114 - accuracy: 0.9748\n",
            "Epoch 181/200\n",
            "12/12 [==============================] - 0s 1ms/step - loss: 0.4067 - accuracy: 0.9664\n",
            "Epoch 182/200\n",
            "12/12 [==============================] - 0s 1ms/step - loss: 0.4014 - accuracy: 0.9664\n",
            "Epoch 183/200\n",
            "12/12 [==============================] - 0s 1ms/step - loss: 0.3966 - accuracy: 0.9664\n",
            "Epoch 184/200\n",
            "12/12 [==============================] - 0s 1ms/step - loss: 0.3920 - accuracy: 0.9496\n",
            "Epoch 185/200\n",
            "12/12 [==============================] - 0s 1ms/step - loss: 0.3880 - accuracy: 0.9496\n",
            "Epoch 186/200\n",
            "12/12 [==============================] - 0s 1ms/step - loss: 0.3829 - accuracy: 0.9496\n",
            "Epoch 187/200\n",
            "12/12 [==============================] - 0s 1ms/step - loss: 0.3791 - accuracy: 0.9580\n",
            "Epoch 188/200\n",
            "12/12 [==============================] - 0s 1ms/step - loss: 0.3751 - accuracy: 0.9496\n",
            "Epoch 189/200\n",
            "12/12 [==============================] - 0s 2ms/step - loss: 0.3711 - accuracy: 0.9496\n",
            "Epoch 190/200\n",
            "12/12 [==============================] - 0s 1ms/step - loss: 0.3677 - accuracy: 0.9328\n",
            "Epoch 191/200\n",
            "12/12 [==============================] - 0s 1ms/step - loss: 0.3642 - accuracy: 0.9496\n",
            "Epoch 192/200\n",
            "12/12 [==============================] - 0s 1ms/step - loss: 0.3601 - accuracy: 0.9496\n",
            "Epoch 193/200\n",
            "12/12 [==============================] - 0s 1ms/step - loss: 0.3572 - accuracy: 0.9412\n",
            "Epoch 194/200\n",
            "12/12 [==============================] - 0s 1ms/step - loss: 0.3539 - accuracy: 0.9412\n",
            "Epoch 195/200\n",
            "12/12 [==============================] - 0s 1ms/step - loss: 0.3512 - accuracy: 0.9412\n",
            "Epoch 196/200\n",
            "12/12 [==============================] - 0s 2ms/step - loss: 0.3496 - accuracy: 0.9328\n",
            "Epoch 197/200\n",
            "12/12 [==============================] - 0s 2ms/step - loss: 0.3454 - accuracy: 0.9412\n",
            "Epoch 198/200\n",
            "12/12 [==============================] - 0s 2ms/step - loss: 0.3432 - accuracy: 0.9496\n",
            "Epoch 199/200\n",
            "12/12 [==============================] - 0s 1ms/step - loss: 0.3397 - accuracy: 0.9412\n",
            "Epoch 200/200\n",
            "12/12 [==============================] - 0s 1ms/step - loss: 0.3373 - accuracy: 0.9496\n"
          ],
          "name": "stdout"
        },
        {
          "output_type": "execute_result",
          "data": {
            "text/plain": [
              "<tensorflow.python.keras.callbacks.History at 0x7f7003543dd8>"
            ]
          },
          "metadata": {
            "tags": []
          },
          "execution_count": 35
        }
      ]
    },
    {
      "cell_type": "markdown",
      "metadata": {
        "id": "Yl9aN1xpVe_G"
      },
      "source": [
        "Predicting the Test set results"
      ]
    },
    {
      "cell_type": "code",
      "metadata": {
        "id": "uhq-MOlHVeca"
      },
      "source": [
        "y_pred=model.predict(X_test)\n",
        "y_test_class=np.argmax(y_test,axis=1)\n",
        "y_pred_class=np.argmax(y_pred,axis=1)"
      ],
      "execution_count": 37,
      "outputs": []
    },
    {
      "cell_type": "markdown",
      "metadata": {
        "id": "S7J0vEsmV7pT"
      },
      "source": [
        "Making the Confusion Matrix"
      ]
    },
    {
      "cell_type": "code",
      "metadata": {
        "colab": {
          "base_uri": "https://localhost:8080/"
        },
        "id": "JM2EVqOrV7Av",
        "outputId": "021053b4-75ab-43ff-ed7e-915677676936"
      },
      "source": [
        "from sklearn.metrics import classification_report,confusion_matrix\n",
        "print(classification_report(y_test_class,y_pred_class))\n",
        "print(confusion_matrix(y_test_class,y_pred_class))"
      ],
      "execution_count": 38,
      "outputs": [
        {
          "output_type": "stream",
          "text": [
            "              precision    recall  f1-score   support\n",
            "\n",
            "           0       1.00      1.00      1.00        12\n",
            "           1       0.83      1.00      0.91        10\n",
            "           2       1.00      0.75      0.86         8\n",
            "\n",
            "    accuracy                           0.93        30\n",
            "   macro avg       0.94      0.92      0.92        30\n",
            "weighted avg       0.94      0.93      0.93        30\n",
            "\n",
            "[[12  0  0]\n",
            " [ 0 10  0]\n",
            " [ 0  2  6]]\n"
          ],
          "name": "stdout"
        }
      ]
    }
  ]
}